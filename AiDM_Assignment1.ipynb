{
  "cells": [
    {
      "cell_type": "markdown",
      "metadata": {
        "id": "9_oeDOPln_vS"
      },
      "source": [
        "# Assignment 1"
      ]
    },
    {
      "cell_type": "markdown",
      "metadata": {
        "id": "Q-E5F49boFCE"
      },
      "source": [
        "## Importing the libraries"
      ]
    },
    {
      "cell_type": "code",
      "execution_count": 31,
      "metadata": {
        "id": "dwRd36SFmGAN"
      },
      "outputs": [],
      "source": [
        "import numpy as np\n",
        "import pandas as pd\n",
        "import random\n",
        "from sklearn.linear_model import LinearRegression\n",
        "from sklearn.model_selection import KFold\n",
        "from enum import Enum\n",
        "from numpy import mean\n",
        "from sklearn.metrics import mean_squared_error, r2_score, mean_absolute_error\n",
        "import matplotlib.pyplot as plt\n",
        "from tqdm import tqdm\n",
        "# Initializing a random seed\n",
        "np.random.seed(42)\n",
        "import warnings\n",
        "warnings.filterwarnings(\"ignore\")\n",
        "from numpy import save\n",
        "from numpy import load"
      ]
    },
    {
      "cell_type": "code",
      "execution_count": 32,
      "metadata": {},
      "outputs": [],
      "source": [
        "DATASET_LOC = 'dataset'"
      ]
    },
    {
      "cell_type": "code",
      "execution_count": 33,
      "metadata": {
        "id": "H-kSp1LDqT9l"
      },
      "outputs": [],
      "source": [
        "movies_cols = ['MovieID', 'Title','Genres']\n",
        "rating_cols = ['UserID', 'MovieID', 'Rating', 'Timestamp']\n",
        "users_cols = ['UserID', 'Gender', 'Age', 'Occupation', 'Zip-code']"
      ]
    },
    {
      "cell_type": "code",
      "execution_count": 34,
      "metadata": {
        "id": "kgDaVZICoioA"
      },
      "outputs": [],
      "source": [
        "movies_df = pd.read_csv(f'{DATASET_LOC}/movies.dat', names=movies_cols, header=None, \n",
        "    sep='::', engine='python', encoding='ISO-8859-1')\n",
        "ratings_df = pd.read_csv(f'{DATASET_LOC}/ratings.dat', names=rating_cols, header=None, \n",
        "    sep='::', engine='python', encoding='ISO-8859-1')\n",
        "users_df = pd.read_csv(f'{DATASET_LOC}/users.dat', names=users_cols, header=None, \n",
        "    sep='::', engine='python', encoding='ISO-8859-1')"
      ]
    },
    {
      "cell_type": "code",
      "execution_count": 35,
      "metadata": {
        "colab": {
          "base_uri": "https://localhost:8080/",
          "height": 419
        },
        "id": "obhh4nyJsqkc",
        "outputId": "849ce1ca-ec1b-4a06-c354-ca0b0d115a2d"
      },
      "outputs": [
        {
          "data": {
            "text/html": [
              "<div>\n",
              "<style scoped>\n",
              "    .dataframe tbody tr th:only-of-type {\n",
              "        vertical-align: middle;\n",
              "    }\n",
              "\n",
              "    .dataframe tbody tr th {\n",
              "        vertical-align: top;\n",
              "    }\n",
              "\n",
              "    .dataframe thead th {\n",
              "        text-align: right;\n",
              "    }\n",
              "</style>\n",
              "<table border=\"1\" class=\"dataframe\">\n",
              "  <thead>\n",
              "    <tr style=\"text-align: right;\">\n",
              "      <th></th>\n",
              "      <th>UserID</th>\n",
              "      <th>Gender</th>\n",
              "      <th>Age</th>\n",
              "      <th>Occupation</th>\n",
              "      <th>Zip-code</th>\n",
              "    </tr>\n",
              "  </thead>\n",
              "  <tbody>\n",
              "    <tr>\n",
              "      <th>0</th>\n",
              "      <td>1</td>\n",
              "      <td>F</td>\n",
              "      <td>1</td>\n",
              "      <td>10</td>\n",
              "      <td>48067</td>\n",
              "    </tr>\n",
              "    <tr>\n",
              "      <th>1</th>\n",
              "      <td>2</td>\n",
              "      <td>M</td>\n",
              "      <td>56</td>\n",
              "      <td>16</td>\n",
              "      <td>70072</td>\n",
              "    </tr>\n",
              "    <tr>\n",
              "      <th>2</th>\n",
              "      <td>3</td>\n",
              "      <td>M</td>\n",
              "      <td>25</td>\n",
              "      <td>15</td>\n",
              "      <td>55117</td>\n",
              "    </tr>\n",
              "    <tr>\n",
              "      <th>3</th>\n",
              "      <td>4</td>\n",
              "      <td>M</td>\n",
              "      <td>45</td>\n",
              "      <td>7</td>\n",
              "      <td>02460</td>\n",
              "    </tr>\n",
              "    <tr>\n",
              "      <th>4</th>\n",
              "      <td>5</td>\n",
              "      <td>M</td>\n",
              "      <td>25</td>\n",
              "      <td>20</td>\n",
              "      <td>55455</td>\n",
              "    </tr>\n",
              "    <tr>\n",
              "      <th>...</th>\n",
              "      <td>...</td>\n",
              "      <td>...</td>\n",
              "      <td>...</td>\n",
              "      <td>...</td>\n",
              "      <td>...</td>\n",
              "    </tr>\n",
              "    <tr>\n",
              "      <th>6035</th>\n",
              "      <td>6036</td>\n",
              "      <td>F</td>\n",
              "      <td>25</td>\n",
              "      <td>15</td>\n",
              "      <td>32603</td>\n",
              "    </tr>\n",
              "    <tr>\n",
              "      <th>6036</th>\n",
              "      <td>6037</td>\n",
              "      <td>F</td>\n",
              "      <td>45</td>\n",
              "      <td>1</td>\n",
              "      <td>76006</td>\n",
              "    </tr>\n",
              "    <tr>\n",
              "      <th>6037</th>\n",
              "      <td>6038</td>\n",
              "      <td>F</td>\n",
              "      <td>56</td>\n",
              "      <td>1</td>\n",
              "      <td>14706</td>\n",
              "    </tr>\n",
              "    <tr>\n",
              "      <th>6038</th>\n",
              "      <td>6039</td>\n",
              "      <td>F</td>\n",
              "      <td>45</td>\n",
              "      <td>0</td>\n",
              "      <td>01060</td>\n",
              "    </tr>\n",
              "    <tr>\n",
              "      <th>6039</th>\n",
              "      <td>6040</td>\n",
              "      <td>M</td>\n",
              "      <td>25</td>\n",
              "      <td>6</td>\n",
              "      <td>11106</td>\n",
              "    </tr>\n",
              "  </tbody>\n",
              "</table>\n",
              "<p>6040 rows × 5 columns</p>\n",
              "</div>"
            ],
            "text/plain": [
              "      UserID Gender  Age  Occupation Zip-code\n",
              "0          1      F    1          10    48067\n",
              "1          2      M   56          16    70072\n",
              "2          3      M   25          15    55117\n",
              "3          4      M   45           7    02460\n",
              "4          5      M   25          20    55455\n",
              "...      ...    ...  ...         ...      ...\n",
              "6035    6036      F   25          15    32603\n",
              "6036    6037      F   45           1    76006\n",
              "6037    6038      F   56           1    14706\n",
              "6038    6039      F   45           0    01060\n",
              "6039    6040      M   25           6    11106\n",
              "\n",
              "[6040 rows x 5 columns]"
            ]
          },
          "execution_count": 35,
          "metadata": {},
          "output_type": "execute_result"
        }
      ],
      "source": [
        "users_df"
      ]
    },
    {
      "cell_type": "code",
      "execution_count": 36,
      "metadata": {
        "colab": {
          "base_uri": "https://localhost:8080/",
          "height": 419
        },
        "id": "YRaTBRNyt7tt",
        "outputId": "232d0db4-c70f-432a-df64-45e345b4fd1a"
      },
      "outputs": [
        {
          "data": {
            "text/html": [
              "<div>\n",
              "<style scoped>\n",
              "    .dataframe tbody tr th:only-of-type {\n",
              "        vertical-align: middle;\n",
              "    }\n",
              "\n",
              "    .dataframe tbody tr th {\n",
              "        vertical-align: top;\n",
              "    }\n",
              "\n",
              "    .dataframe thead th {\n",
              "        text-align: right;\n",
              "    }\n",
              "</style>\n",
              "<table border=\"1\" class=\"dataframe\">\n",
              "  <thead>\n",
              "    <tr style=\"text-align: right;\">\n",
              "      <th></th>\n",
              "      <th>MovieID</th>\n",
              "      <th>Title</th>\n",
              "      <th>Genres</th>\n",
              "    </tr>\n",
              "  </thead>\n",
              "  <tbody>\n",
              "    <tr>\n",
              "      <th>0</th>\n",
              "      <td>1</td>\n",
              "      <td>Toy Story (1995)</td>\n",
              "      <td>Animation|Children's|Comedy</td>\n",
              "    </tr>\n",
              "    <tr>\n",
              "      <th>1</th>\n",
              "      <td>2</td>\n",
              "      <td>Jumanji (1995)</td>\n",
              "      <td>Adventure|Children's|Fantasy</td>\n",
              "    </tr>\n",
              "    <tr>\n",
              "      <th>2</th>\n",
              "      <td>3</td>\n",
              "      <td>Grumpier Old Men (1995)</td>\n",
              "      <td>Comedy|Romance</td>\n",
              "    </tr>\n",
              "    <tr>\n",
              "      <th>3</th>\n",
              "      <td>4</td>\n",
              "      <td>Waiting to Exhale (1995)</td>\n",
              "      <td>Comedy|Drama</td>\n",
              "    </tr>\n",
              "    <tr>\n",
              "      <th>4</th>\n",
              "      <td>5</td>\n",
              "      <td>Father of the Bride Part II (1995)</td>\n",
              "      <td>Comedy</td>\n",
              "    </tr>\n",
              "    <tr>\n",
              "      <th>...</th>\n",
              "      <td>...</td>\n",
              "      <td>...</td>\n",
              "      <td>...</td>\n",
              "    </tr>\n",
              "    <tr>\n",
              "      <th>3878</th>\n",
              "      <td>3948</td>\n",
              "      <td>Meet the Parents (2000)</td>\n",
              "      <td>Comedy</td>\n",
              "    </tr>\n",
              "    <tr>\n",
              "      <th>3879</th>\n",
              "      <td>3949</td>\n",
              "      <td>Requiem for a Dream (2000)</td>\n",
              "      <td>Drama</td>\n",
              "    </tr>\n",
              "    <tr>\n",
              "      <th>3880</th>\n",
              "      <td>3950</td>\n",
              "      <td>Tigerland (2000)</td>\n",
              "      <td>Drama</td>\n",
              "    </tr>\n",
              "    <tr>\n",
              "      <th>3881</th>\n",
              "      <td>3951</td>\n",
              "      <td>Two Family House (2000)</td>\n",
              "      <td>Drama</td>\n",
              "    </tr>\n",
              "    <tr>\n",
              "      <th>3882</th>\n",
              "      <td>3952</td>\n",
              "      <td>Contender, The (2000)</td>\n",
              "      <td>Drama|Thriller</td>\n",
              "    </tr>\n",
              "  </tbody>\n",
              "</table>\n",
              "<p>3883 rows × 3 columns</p>\n",
              "</div>"
            ],
            "text/plain": [
              "      MovieID                               Title  \\\n",
              "0           1                    Toy Story (1995)   \n",
              "1           2                      Jumanji (1995)   \n",
              "2           3             Grumpier Old Men (1995)   \n",
              "3           4            Waiting to Exhale (1995)   \n",
              "4           5  Father of the Bride Part II (1995)   \n",
              "...       ...                                 ...   \n",
              "3878     3948             Meet the Parents (2000)   \n",
              "3879     3949          Requiem for a Dream (2000)   \n",
              "3880     3950                    Tigerland (2000)   \n",
              "3881     3951             Two Family House (2000)   \n",
              "3882     3952               Contender, The (2000)   \n",
              "\n",
              "                            Genres  \n",
              "0      Animation|Children's|Comedy  \n",
              "1     Adventure|Children's|Fantasy  \n",
              "2                   Comedy|Romance  \n",
              "3                     Comedy|Drama  \n",
              "4                           Comedy  \n",
              "...                            ...  \n",
              "3878                        Comedy  \n",
              "3879                         Drama  \n",
              "3880                         Drama  \n",
              "3881                         Drama  \n",
              "3882                Drama|Thriller  \n",
              "\n",
              "[3883 rows x 3 columns]"
            ]
          },
          "execution_count": 36,
          "metadata": {},
          "output_type": "execute_result"
        }
      ],
      "source": [
        "movies_df"
      ]
    },
    {
      "cell_type": "code",
      "execution_count": 37,
      "metadata": {
        "colab": {
          "base_uri": "https://localhost:8080/",
          "height": 419
        },
        "id": "FZCbsKrbt-z2",
        "outputId": "3031b0b0-626e-4776-b562-eaec5aa2bee0"
      },
      "outputs": [
        {
          "data": {
            "text/html": [
              "<div>\n",
              "<style scoped>\n",
              "    .dataframe tbody tr th:only-of-type {\n",
              "        vertical-align: middle;\n",
              "    }\n",
              "\n",
              "    .dataframe tbody tr th {\n",
              "        vertical-align: top;\n",
              "    }\n",
              "\n",
              "    .dataframe thead th {\n",
              "        text-align: right;\n",
              "    }\n",
              "</style>\n",
              "<table border=\"1\" class=\"dataframe\">\n",
              "  <thead>\n",
              "    <tr style=\"text-align: right;\">\n",
              "      <th></th>\n",
              "      <th>UserID</th>\n",
              "      <th>MovieID</th>\n",
              "      <th>Rating</th>\n",
              "      <th>Timestamp</th>\n",
              "    </tr>\n",
              "  </thead>\n",
              "  <tbody>\n",
              "    <tr>\n",
              "      <th>0</th>\n",
              "      <td>1</td>\n",
              "      <td>1193</td>\n",
              "      <td>5</td>\n",
              "      <td>978300760</td>\n",
              "    </tr>\n",
              "    <tr>\n",
              "      <th>1</th>\n",
              "      <td>1</td>\n",
              "      <td>661</td>\n",
              "      <td>3</td>\n",
              "      <td>978302109</td>\n",
              "    </tr>\n",
              "    <tr>\n",
              "      <th>2</th>\n",
              "      <td>1</td>\n",
              "      <td>914</td>\n",
              "      <td>3</td>\n",
              "      <td>978301968</td>\n",
              "    </tr>\n",
              "    <tr>\n",
              "      <th>3</th>\n",
              "      <td>1</td>\n",
              "      <td>3408</td>\n",
              "      <td>4</td>\n",
              "      <td>978300275</td>\n",
              "    </tr>\n",
              "    <tr>\n",
              "      <th>4</th>\n",
              "      <td>1</td>\n",
              "      <td>2355</td>\n",
              "      <td>5</td>\n",
              "      <td>978824291</td>\n",
              "    </tr>\n",
              "    <tr>\n",
              "      <th>...</th>\n",
              "      <td>...</td>\n",
              "      <td>...</td>\n",
              "      <td>...</td>\n",
              "      <td>...</td>\n",
              "    </tr>\n",
              "    <tr>\n",
              "      <th>1000204</th>\n",
              "      <td>6040</td>\n",
              "      <td>1091</td>\n",
              "      <td>1</td>\n",
              "      <td>956716541</td>\n",
              "    </tr>\n",
              "    <tr>\n",
              "      <th>1000205</th>\n",
              "      <td>6040</td>\n",
              "      <td>1094</td>\n",
              "      <td>5</td>\n",
              "      <td>956704887</td>\n",
              "    </tr>\n",
              "    <tr>\n",
              "      <th>1000206</th>\n",
              "      <td>6040</td>\n",
              "      <td>562</td>\n",
              "      <td>5</td>\n",
              "      <td>956704746</td>\n",
              "    </tr>\n",
              "    <tr>\n",
              "      <th>1000207</th>\n",
              "      <td>6040</td>\n",
              "      <td>1096</td>\n",
              "      <td>4</td>\n",
              "      <td>956715648</td>\n",
              "    </tr>\n",
              "    <tr>\n",
              "      <th>1000208</th>\n",
              "      <td>6040</td>\n",
              "      <td>1097</td>\n",
              "      <td>4</td>\n",
              "      <td>956715569</td>\n",
              "    </tr>\n",
              "  </tbody>\n",
              "</table>\n",
              "<p>1000209 rows × 4 columns</p>\n",
              "</div>"
            ],
            "text/plain": [
              "         UserID  MovieID  Rating  Timestamp\n",
              "0             1     1193       5  978300760\n",
              "1             1      661       3  978302109\n",
              "2             1      914       3  978301968\n",
              "3             1     3408       4  978300275\n",
              "4             1     2355       5  978824291\n",
              "...         ...      ...     ...        ...\n",
              "1000204    6040     1091       1  956716541\n",
              "1000205    6040     1094       5  956704887\n",
              "1000206    6040      562       5  956704746\n",
              "1000207    6040     1096       4  956715648\n",
              "1000208    6040     1097       4  956715569\n",
              "\n",
              "[1000209 rows x 4 columns]"
            ]
          },
          "execution_count": 37,
          "metadata": {},
          "output_type": "execute_result"
        }
      ],
      "source": [
        "ratings_df"
      ]
    },
    {
      "cell_type": "markdown",
      "metadata": {
        "id": "Ugs3O9Jum-PE"
      },
      "source": [
        "**For testing and debugging purposes**"
      ]
    },
    {
      "cell_type": "markdown",
      "metadata": {
        "id": "UeXRugU6u334"
      },
      "source": [
        "## Task1: Calculating the 5 formulas of the 'Naive' approach"
      ]
    },
    {
      "cell_type": "markdown",
      "metadata": {
        "id": "jvgASKULu_Yw"
      },
      "source": [
        "### Global rating average"
      ]
    },
    {
      "cell_type": "code",
      "execution_count": 38,
      "metadata": {
        "colab": {
          "base_uri": "https://localhost:8080/"
        },
        "id": "YJdn-2GbuWAN",
        "outputId": "84fd4bf7-7647-4936-fb37-559399bc6215"
      },
      "outputs": [
        {
          "name": "stdout",
          "output_type": "stream",
          "text": [
            "Average RMSE train:\t 1.117101058798404 \t| Average RMSE test:\t 1.117101450528282\n",
            "Average MAE train:\t 0.9338605988472766 \t| Average MAE test:\t 0.9338619186570455\n"
          ]
        }
      ],
      "source": [
        "y = ratings_df['Rating']\n",
        "skf = KFold(n_splits=5, shuffle=True, random_state=42)\n",
        "rmses = []\n",
        "maes = []\n",
        "rmses_train = []\n",
        "maes_train = []\n",
        "for train_index, test_index in skf.split(y):\n",
        "    y_train, y_test = y[train_index], y[test_index]\n",
        "    pred = y_train.mean()\n",
        "    # print(pred)\n",
        "    y_pred = np.full((len(y_test)), pred, dtype=float)\n",
        "    rmses.append(mean_squared_error(y_test, y_pred, squared=False))\n",
        "    maes.append(mean_absolute_error(y_test, y_pred))\n",
        "    # RMSE & MAE for train\n",
        "    y_pred_train = np.full((len(y_train)), pred, dtype=float)\n",
        "    rmses_train.append(mean_squared_error(y_train, y_pred_train, squared=False))\n",
        "    maes_train.append(mean_absolute_error(y_train, y_pred_train))\n",
        "np.array(rmses).mean()\n",
        "print('Average RMSE train:\\t', np.array(rmses_train).mean(), '\\t| Average RMSE test:\\t', np.array(rmses).mean())\n",
        "print('Average MAE train:\\t', np.array(maes_train).mean(), '\\t| Average MAE test:\\t', np.array(maes).mean())"
      ]
    },
    {
      "cell_type": "code",
      "execution_count": 39,
      "metadata": {
        "id": "1HOTnnyZFjU4"
      },
      "outputs": [],
      "source": [
        "ratings_df = pd.read_csv(f'{DATASET_LOC}/ratings.dat', names=rating_cols, header=None, sep='::', engine='python')"
      ]
    },
    {
      "cell_type": "markdown",
      "metadata": {
        "id": "Le4fvlHlm-PG"
      },
      "source": [
        "### Mean rating per movie"
      ]
    },
    {
      "cell_type": "code",
      "execution_count": 40,
      "metadata": {
        "colab": {
          "base_uri": "https://localhost:8080/"
        },
        "id": "TTFpFTyKu3Vp",
        "outputId": "70ee0d93-aa70-45d7-89a7-ff31f78cbc5a"
      },
      "outputs": [
        {
          "name": "stdout",
          "output_type": "stream",
          "text": [
            "Average RMSE train:\t 0.9742283446390194 \t| Average RMSE test:\t 0.9793666761448853\n",
            "Average MAE train:\t 0.7783363352007652 \t| Average MAE test:\t 0.7822841972440417\n"
          ]
        }
      ],
      "source": [
        "y = ratings_df.copy()\n",
        "skf = KFold(n_splits=5, shuffle=True)\n",
        "rmses = []\n",
        "maes = []\n",
        "rmses_train = []\n",
        "maes_train = []\n",
        "for train_index, test_index in skf.split(y):  \n",
        "  y_train = y.iloc[train_index]\n",
        "  y_test = y.iloc[test_index]\n",
        "  R_global = y_train['Rating'].mean()\n",
        "  R_item = y_train.groupby(['MovieID'], as_index=False)['Rating'].mean()\n",
        "  merged = pd.merge(y_test['MovieID'], R_item[['MovieID','Rating']], on='MovieID', how='left')\n",
        "  y_pred = merged.fillna(R_global)\n",
        "  rmses.append(mean_squared_error(y_test['Rating'], y_pred['Rating'], squared=False))\n",
        "  maes.append(mean_absolute_error(y_test['Rating'], y_pred['Rating']))\n",
        "  # training set\n",
        "  R_item = y_train.groupby(['MovieID'], as_index=False)['Rating'].mean()\n",
        "  y_pred = pd.merge(y_train['MovieID'], R_item[['MovieID','Rating']], on='MovieID', how='left')\n",
        "  rmses_train.append(mean_squared_error(y_train['Rating'], y_pred['Rating'], squared=False))\n",
        "  maes_train.append(mean_absolute_error(y_train['Rating'], y_pred['Rating']))\n",
        "print('Average RMSE train:\\t', np.array(rmses_train).mean(), '\\t| Average RMSE test:\\t', np.array(rmses).mean())\n",
        "print('Average MAE train:\\t', np.array(maes_train).mean(), '\\t| Average MAE test:\\t', np.array(maes).mean())"
      ]
    },
    {
      "cell_type": "markdown",
      "metadata": {
        "id": "fjhi4vVH0klY"
      },
      "source": [
        "### Mean for rating per user"
      ]
    },
    {
      "cell_type": "code",
      "execution_count": 41,
      "metadata": {
        "id": "kv8q8gS4GFm-"
      },
      "outputs": [],
      "source": [
        "ratings_df = pd.read_csv(f'{DATASET_LOC}/ratings.dat', names=rating_cols, header=None, sep='::', engine='python')"
      ]
    },
    {
      "cell_type": "code",
      "execution_count": 42,
      "metadata": {
        "colab": {
          "base_uri": "https://localhost:8080/"
        },
        "id": "RFddFZZSFoOK",
        "outputId": "3bebed71-596c-41b2-f933-930336023e15"
      },
      "outputs": [
        {
          "name": "stdout",
          "output_type": "stream",
          "text": [
            "Average RMSE train:\t 1.0276822962695291 \t| Average RMSE test:\t 1.035395812703177\n",
            "Average MAE train:\t 0.8227544756430258 \t| Average MAE test:\t 0.8289078965218524\n"
          ]
        }
      ],
      "source": [
        "y = ratings_df.copy()\n",
        "skf = KFold(n_splits=5, shuffle=True)\n",
        "rmses = []\n",
        "maes = []\n",
        "rmses_train = []\n",
        "maes_train = []\n",
        "for train_index, test_index in skf.split(y):  \n",
        "  y_train = y.iloc[train_index]\n",
        "  y_test = y.iloc[test_index]\n",
        "  R_global = y_train['Rating'].mean()\n",
        "  R_user = y_train.groupby(['UserID'], as_index=False)['Rating'].mean()\n",
        "  merged = pd.merge(y_test['UserID'], R_user[['UserID','Rating']], on='UserID', how='left')\n",
        "  y_pred = merged.fillna(R_global)\n",
        "  rmses.append(mean_squared_error(y_test['Rating'], y_pred['Rating'], squared=False))\n",
        "  maes.append(mean_absolute_error(y_test['Rating'], y_pred['Rating']))\n",
        "\n",
        "  # training set\n",
        "  R_user = y_train.groupby(['UserID'], as_index=False)['Rating'].mean()\n",
        "  y_pred = pd.merge(y_train['UserID'], R_user[['UserID','Rating']], on='UserID', how='left')\n",
        "  rmses_train.append(mean_squared_error(y_train['Rating'], y_pred['Rating'], squared=False))\n",
        "  maes_train.append(mean_absolute_error(y_train['Rating'], y_pred['Rating']))\n",
        "print('Average RMSE train:\\t', np.array(rmses_train).mean(), '\\t| Average RMSE test:\\t', np.array(rmses).mean())\n",
        "print('Average MAE train:\\t', np.array(maes_train).mean(), '\\t| Average MAE test:\\t', np.array(maes).mean())"
      ]
    },
    {
      "cell_type": "markdown",
      "metadata": {
        "id": "6zixwsoh6TLb"
      },
      "source": [
        "### Approaches 4 & 5: Linear Regression Models with and without intercepts"
      ]
    },
    {
      "cell_type": "markdown",
      "metadata": {
        "id": "ITYPZiaf6juL"
      },
      "source": [
        "<h3>Enums for our linear regression model types</h3>"
      ]
    },
    {
      "cell_type": "code",
      "execution_count": 43,
      "metadata": {
        "id": "dOIuF-5uY2r1"
      },
      "outputs": [],
      "source": [
        "class LREG(Enum):\n",
        "  DEFAULT = 'With Intercept'\n",
        "  NO_INTERCEPT = 'Without Intercept'"
      ]
    },
    {
      "cell_type": "markdown",
      "metadata": {
        "id": "22loe_W66t9o"
      },
      "source": [
        "<h3>Dictionary connecting enum values and Linear regression models</h3>"
      ]
    },
    {
      "cell_type": "code",
      "execution_count": 44,
      "metadata": {
        "id": "AmqCR42iaTvm"
      },
      "outputs": [],
      "source": [
        "lregression = {\n",
        "  LREG.DEFAULT: LinearRegression(),\n",
        "  LREG.NO_INTERCEPT: LinearRegression(fit_intercept=False)\n",
        "}"
      ]
    },
    {
      "cell_type": "markdown",
      "metadata": {
        "id": "TeP0Rq2i660w"
      },
      "source": [
        "<h3>Creating our X and y tables and building K-folds with our regression model</h3>"
      ]
    },
    {
      "cell_type": "code",
      "execution_count": 45,
      "metadata": {
        "id": "bsraC7dom-PJ"
      },
      "outputs": [],
      "source": [
        "ratings_df = pd.read_csv(f'{DATASET_LOC}/ratings.dat', names=rating_cols, header=None, sep='::', engine='python')"
      ]
    },
    {
      "cell_type": "markdown",
      "metadata": {
        "id": "2_0o3ikQm-PJ"
      },
      "source": [
        "<h3>Method for getting y_train and y_test to create the X_train and X_test</h3>"
      ]
    },
    {
      "cell_type": "code",
      "execution_count": 46,
      "metadata": {
        "id": "xE0CVbIcm-PJ"
      },
      "outputs": [],
      "source": [
        "# Create X_test  & X_train\n",
        "def createX(y, R_global):\n",
        "    R_item = y.groupby(['MovieID'], as_index=False)['Rating'].mean().rename(\n",
        "                        columns={'Rating':'MovieRating'})\n",
        "    merged = pd.merge(y[['MovieID', 'UserID']], R_item[['MovieID','MovieRating']], on='MovieID', how='left')\n",
        "    R_user = y.groupby(['UserID'], as_index=False)['Rating'].mean().rename(\n",
        "                        columns={'Rating':'UserRating'})\n",
        "\n",
        "    X = pd.merge(merged[['UserID', 'MovieID', 'MovieRating']], R_user[['UserID','UserRating']], on='UserID', how='left')\n",
        "    X = X.fillna(R_global)[['UserRating', 'MovieRating']]\n",
        "    return X"
      ]
    },
    {
      "cell_type": "markdown",
      "metadata": {
        "id": "pxDhVZZem-PJ"
      },
      "source": [
        "<h3>Method to replace value smaller than 1 and bigger than 5 with 1 and 5 respectively</h3>"
      ]
    },
    {
      "cell_type": "code",
      "execution_count": 47,
      "metadata": {
        "colab": {
          "base_uri": "https://localhost:8080/",
          "height": 232
        },
        "id": "4pbrzJmz1Q0I",
        "outputId": "cbdb47bb-27cf-4b84-c4ce-4e82a6802ecc"
      },
      "outputs": [
        {
          "name": "stdout",
          "output_type": "stream",
          "text": [
            "With Intercept : \t\t\t|\n",
            "Average RMSE:\t 0.9003059307247255 \t|  Average RMSE train:\t 0.9145558777314214 \t|\n",
            "Average MAE:\t 0.7123155529006293 \t|  Average MAE train:\t 0.7248101591327052 \t|\n",
            "----------------------------------------|\n",
            "Without Intercept : \t\t\t|\n",
            "Average RMSE:\t 0.9174777225414216 \t|  Average RMSE train:\t 0.9305598316354603 \t|\n",
            "Average MAE:\t 0.7305426685645153 \t|  Average MAE train:\t 0.7416822136831845 \t|\n",
            "----------------------------------------|\n"
          ]
        }
      ],
      "source": [
        "results = []\n",
        "y = ratings_df.copy()\n",
        "skf = KFold(n_splits=5, shuffle=True, random_state=42)\n",
        "rmses = []\n",
        "maes = []\n",
        "rmses_train = []\n",
        "maes_train = []\n",
        "\n",
        "for l in LREG:\n",
        "  predictions = []\n",
        "  print(l.value, ': \\t\\t\\t|')\n",
        "  for train_index, test_index in skf.split(y):  \n",
        "    y_train = y.iloc[train_index]\n",
        "    y_test = y.iloc[test_index]\n",
        "    lreg = lregression[l]\n",
        "    R_global = y_train['Rating'].mean()\n",
        "    # cv = KFold(n_splits=5, random_state=1, shuffle=True)\n",
        "    X_train = createX(y_train, R_global)\n",
        "    X_test = createX(y_test, R_global)\n",
        "    lreg.fit(X_train[['UserRating', 'MovieRating']], y_train['Rating'])\n",
        "    y_pred = lreg.predict(X_test[['UserRating', 'MovieRating']])\n",
        "    y_pred_train = lreg.predict(X_train[['UserRating', 'MovieRating']])\n",
        "    y_pred_train[y_pred_train<1] = 1\n",
        "    y_pred_train[y_pred_train>5] = 5\n",
        "    y_pred[y_pred<1] = 1\n",
        "    y_pred[y_pred>5] = 5\n",
        "    rmses.append(mean_squared_error(y_test['Rating'], y_pred, squared=False))\n",
        "    maes.append(mean_absolute_error(y_test['Rating'], y_pred))\n",
        "    rmses_train.append(mean_squared_error(y_train['Rating'], y_pred_train, squared=False))\n",
        "    maes_train.append(mean_absolute_error(y_train['Rating'], y_pred_train))\n",
        "  print('Average RMSE:\\t', np.array(rmses).mean(), '\\t|', ' Average RMSE train:\\t', np.array(rmses_train).mean(), '\\t|')\n",
        "  print('Average MAE:\\t', np.array(maes).mean(), '\\t|', ' Average MAE train:\\t', np.array(maes_train).mean(), '\\t|')\n",
        "  print('----------------------------------------|')"
      ]
    },
    {
      "cell_type": "markdown",
      "metadata": {
        "id": "U4VGm5s2hHZe"
      },
      "source": [
        "## Task 2: Creating the user item interactions table"
      ]
    },
    {
      "cell_type": "code",
      "execution_count": 48,
      "metadata": {
        "id": "QXwY5YnrhL0J"
      },
      "outputs": [],
      "source": [
        "# for debuggin and testing purposes\n",
        "df_ratings = pd.read_csv(f'{DATASET_LOC}/ratings.dat', names=rating_cols, header=None, sep='::', engine='python')\n",
        "M = df_ratings.pivot(\n",
        "    index='UserID',\n",
        "    columns='MovieID',\n",
        "    values='Rating'\n",
        ")\n",
        "d = 24\n",
        "\n",
        "\n",
        "R_item = df_ratings.groupby(['MovieID'], as_index=False)['Rating'].mean().rename(\n",
        "                    columns={'Rating':'MovieRating'})\n",
        "R_user = df_ratings.groupby(['UserID'], as_index=False)['Rating'].mean().rename(\n",
        "                    columns={'Rating':'UserRating'})\n",
        "\n",
        "R_user = np.array(R_user['UserRating'])\n",
        "R_item = np.array(R_item['MovieRating'])\n"
      ]
    },
    {
      "cell_type": "code",
      "execution_count": 49,
      "metadata": {
        "id": "P00Wgcaxm-PK",
        "outputId": "9b286fd0-7315-4930-ee4b-89a511882696"
      },
      "outputs": [
        {
          "data": {
            "text/html": [
              "<div>\n",
              "<style scoped>\n",
              "    .dataframe tbody tr th:only-of-type {\n",
              "        vertical-align: middle;\n",
              "    }\n",
              "\n",
              "    .dataframe tbody tr th {\n",
              "        vertical-align: top;\n",
              "    }\n",
              "\n",
              "    .dataframe thead th {\n",
              "        text-align: right;\n",
              "    }\n",
              "</style>\n",
              "<table border=\"1\" class=\"dataframe\">\n",
              "  <thead>\n",
              "    <tr style=\"text-align: right;\">\n",
              "      <th>MovieID</th>\n",
              "      <th>1</th>\n",
              "      <th>2</th>\n",
              "      <th>3</th>\n",
              "      <th>4</th>\n",
              "      <th>5</th>\n",
              "      <th>6</th>\n",
              "      <th>7</th>\n",
              "      <th>8</th>\n",
              "      <th>9</th>\n",
              "      <th>10</th>\n",
              "      <th>...</th>\n",
              "      <th>3943</th>\n",
              "      <th>3944</th>\n",
              "      <th>3945</th>\n",
              "      <th>3946</th>\n",
              "      <th>3947</th>\n",
              "      <th>3948</th>\n",
              "      <th>3949</th>\n",
              "      <th>3950</th>\n",
              "      <th>3951</th>\n",
              "      <th>3952</th>\n",
              "    </tr>\n",
              "    <tr>\n",
              "      <th>UserID</th>\n",
              "      <th></th>\n",
              "      <th></th>\n",
              "      <th></th>\n",
              "      <th></th>\n",
              "      <th></th>\n",
              "      <th></th>\n",
              "      <th></th>\n",
              "      <th></th>\n",
              "      <th></th>\n",
              "      <th></th>\n",
              "      <th></th>\n",
              "      <th></th>\n",
              "      <th></th>\n",
              "      <th></th>\n",
              "      <th></th>\n",
              "      <th></th>\n",
              "      <th></th>\n",
              "      <th></th>\n",
              "      <th></th>\n",
              "      <th></th>\n",
              "      <th></th>\n",
              "    </tr>\n",
              "  </thead>\n",
              "  <tbody>\n",
              "    <tr>\n",
              "      <th>1</th>\n",
              "      <td>5.0</td>\n",
              "      <td>NaN</td>\n",
              "      <td>NaN</td>\n",
              "      <td>NaN</td>\n",
              "      <td>NaN</td>\n",
              "      <td>NaN</td>\n",
              "      <td>NaN</td>\n",
              "      <td>NaN</td>\n",
              "      <td>NaN</td>\n",
              "      <td>NaN</td>\n",
              "      <td>...</td>\n",
              "      <td>NaN</td>\n",
              "      <td>NaN</td>\n",
              "      <td>NaN</td>\n",
              "      <td>NaN</td>\n",
              "      <td>NaN</td>\n",
              "      <td>NaN</td>\n",
              "      <td>NaN</td>\n",
              "      <td>NaN</td>\n",
              "      <td>NaN</td>\n",
              "      <td>NaN</td>\n",
              "    </tr>\n",
              "    <tr>\n",
              "      <th>2</th>\n",
              "      <td>NaN</td>\n",
              "      <td>NaN</td>\n",
              "      <td>NaN</td>\n",
              "      <td>NaN</td>\n",
              "      <td>NaN</td>\n",
              "      <td>NaN</td>\n",
              "      <td>NaN</td>\n",
              "      <td>NaN</td>\n",
              "      <td>NaN</td>\n",
              "      <td>NaN</td>\n",
              "      <td>...</td>\n",
              "      <td>NaN</td>\n",
              "      <td>NaN</td>\n",
              "      <td>NaN</td>\n",
              "      <td>NaN</td>\n",
              "      <td>NaN</td>\n",
              "      <td>NaN</td>\n",
              "      <td>NaN</td>\n",
              "      <td>NaN</td>\n",
              "      <td>NaN</td>\n",
              "      <td>NaN</td>\n",
              "    </tr>\n",
              "    <tr>\n",
              "      <th>3</th>\n",
              "      <td>NaN</td>\n",
              "      <td>NaN</td>\n",
              "      <td>NaN</td>\n",
              "      <td>NaN</td>\n",
              "      <td>NaN</td>\n",
              "      <td>NaN</td>\n",
              "      <td>NaN</td>\n",
              "      <td>NaN</td>\n",
              "      <td>NaN</td>\n",
              "      <td>NaN</td>\n",
              "      <td>...</td>\n",
              "      <td>NaN</td>\n",
              "      <td>NaN</td>\n",
              "      <td>NaN</td>\n",
              "      <td>NaN</td>\n",
              "      <td>NaN</td>\n",
              "      <td>NaN</td>\n",
              "      <td>NaN</td>\n",
              "      <td>NaN</td>\n",
              "      <td>NaN</td>\n",
              "      <td>NaN</td>\n",
              "    </tr>\n",
              "    <tr>\n",
              "      <th>4</th>\n",
              "      <td>NaN</td>\n",
              "      <td>NaN</td>\n",
              "      <td>NaN</td>\n",
              "      <td>NaN</td>\n",
              "      <td>NaN</td>\n",
              "      <td>NaN</td>\n",
              "      <td>NaN</td>\n",
              "      <td>NaN</td>\n",
              "      <td>NaN</td>\n",
              "      <td>NaN</td>\n",
              "      <td>...</td>\n",
              "      <td>NaN</td>\n",
              "      <td>NaN</td>\n",
              "      <td>NaN</td>\n",
              "      <td>NaN</td>\n",
              "      <td>NaN</td>\n",
              "      <td>NaN</td>\n",
              "      <td>NaN</td>\n",
              "      <td>NaN</td>\n",
              "      <td>NaN</td>\n",
              "      <td>NaN</td>\n",
              "    </tr>\n",
              "    <tr>\n",
              "      <th>5</th>\n",
              "      <td>NaN</td>\n",
              "      <td>NaN</td>\n",
              "      <td>NaN</td>\n",
              "      <td>NaN</td>\n",
              "      <td>NaN</td>\n",
              "      <td>2.0</td>\n",
              "      <td>NaN</td>\n",
              "      <td>NaN</td>\n",
              "      <td>NaN</td>\n",
              "      <td>NaN</td>\n",
              "      <td>...</td>\n",
              "      <td>NaN</td>\n",
              "      <td>NaN</td>\n",
              "      <td>NaN</td>\n",
              "      <td>NaN</td>\n",
              "      <td>NaN</td>\n",
              "      <td>NaN</td>\n",
              "      <td>NaN</td>\n",
              "      <td>NaN</td>\n",
              "      <td>NaN</td>\n",
              "      <td>NaN</td>\n",
              "    </tr>\n",
              "    <tr>\n",
              "      <th>...</th>\n",
              "      <td>...</td>\n",
              "      <td>...</td>\n",
              "      <td>...</td>\n",
              "      <td>...</td>\n",
              "      <td>...</td>\n",
              "      <td>...</td>\n",
              "      <td>...</td>\n",
              "      <td>...</td>\n",
              "      <td>...</td>\n",
              "      <td>...</td>\n",
              "      <td>...</td>\n",
              "      <td>...</td>\n",
              "      <td>...</td>\n",
              "      <td>...</td>\n",
              "      <td>...</td>\n",
              "      <td>...</td>\n",
              "      <td>...</td>\n",
              "      <td>...</td>\n",
              "      <td>...</td>\n",
              "      <td>...</td>\n",
              "      <td>...</td>\n",
              "    </tr>\n",
              "    <tr>\n",
              "      <th>6036</th>\n",
              "      <td>NaN</td>\n",
              "      <td>NaN</td>\n",
              "      <td>NaN</td>\n",
              "      <td>2.0</td>\n",
              "      <td>NaN</td>\n",
              "      <td>3.0</td>\n",
              "      <td>NaN</td>\n",
              "      <td>NaN</td>\n",
              "      <td>NaN</td>\n",
              "      <td>NaN</td>\n",
              "      <td>...</td>\n",
              "      <td>NaN</td>\n",
              "      <td>NaN</td>\n",
              "      <td>NaN</td>\n",
              "      <td>NaN</td>\n",
              "      <td>NaN</td>\n",
              "      <td>NaN</td>\n",
              "      <td>NaN</td>\n",
              "      <td>NaN</td>\n",
              "      <td>NaN</td>\n",
              "      <td>NaN</td>\n",
              "    </tr>\n",
              "    <tr>\n",
              "      <th>6037</th>\n",
              "      <td>NaN</td>\n",
              "      <td>NaN</td>\n",
              "      <td>NaN</td>\n",
              "      <td>NaN</td>\n",
              "      <td>NaN</td>\n",
              "      <td>NaN</td>\n",
              "      <td>NaN</td>\n",
              "      <td>NaN</td>\n",
              "      <td>NaN</td>\n",
              "      <td>NaN</td>\n",
              "      <td>...</td>\n",
              "      <td>NaN</td>\n",
              "      <td>NaN</td>\n",
              "      <td>NaN</td>\n",
              "      <td>NaN</td>\n",
              "      <td>NaN</td>\n",
              "      <td>NaN</td>\n",
              "      <td>NaN</td>\n",
              "      <td>NaN</td>\n",
              "      <td>NaN</td>\n",
              "      <td>NaN</td>\n",
              "    </tr>\n",
              "    <tr>\n",
              "      <th>6038</th>\n",
              "      <td>NaN</td>\n",
              "      <td>NaN</td>\n",
              "      <td>NaN</td>\n",
              "      <td>NaN</td>\n",
              "      <td>NaN</td>\n",
              "      <td>NaN</td>\n",
              "      <td>NaN</td>\n",
              "      <td>NaN</td>\n",
              "      <td>NaN</td>\n",
              "      <td>NaN</td>\n",
              "      <td>...</td>\n",
              "      <td>NaN</td>\n",
              "      <td>NaN</td>\n",
              "      <td>NaN</td>\n",
              "      <td>NaN</td>\n",
              "      <td>NaN</td>\n",
              "      <td>NaN</td>\n",
              "      <td>NaN</td>\n",
              "      <td>NaN</td>\n",
              "      <td>NaN</td>\n",
              "      <td>NaN</td>\n",
              "    </tr>\n",
              "    <tr>\n",
              "      <th>6039</th>\n",
              "      <td>NaN</td>\n",
              "      <td>NaN</td>\n",
              "      <td>NaN</td>\n",
              "      <td>NaN</td>\n",
              "      <td>NaN</td>\n",
              "      <td>NaN</td>\n",
              "      <td>NaN</td>\n",
              "      <td>NaN</td>\n",
              "      <td>NaN</td>\n",
              "      <td>NaN</td>\n",
              "      <td>...</td>\n",
              "      <td>NaN</td>\n",
              "      <td>NaN</td>\n",
              "      <td>NaN</td>\n",
              "      <td>NaN</td>\n",
              "      <td>NaN</td>\n",
              "      <td>NaN</td>\n",
              "      <td>NaN</td>\n",
              "      <td>NaN</td>\n",
              "      <td>NaN</td>\n",
              "      <td>NaN</td>\n",
              "    </tr>\n",
              "    <tr>\n",
              "      <th>6040</th>\n",
              "      <td>3.0</td>\n",
              "      <td>NaN</td>\n",
              "      <td>NaN</td>\n",
              "      <td>NaN</td>\n",
              "      <td>NaN</td>\n",
              "      <td>NaN</td>\n",
              "      <td>NaN</td>\n",
              "      <td>NaN</td>\n",
              "      <td>NaN</td>\n",
              "      <td>NaN</td>\n",
              "      <td>...</td>\n",
              "      <td>NaN</td>\n",
              "      <td>NaN</td>\n",
              "      <td>NaN</td>\n",
              "      <td>NaN</td>\n",
              "      <td>NaN</td>\n",
              "      <td>NaN</td>\n",
              "      <td>NaN</td>\n",
              "      <td>NaN</td>\n",
              "      <td>NaN</td>\n",
              "      <td>NaN</td>\n",
              "    </tr>\n",
              "  </tbody>\n",
              "</table>\n",
              "<p>6040 rows × 3706 columns</p>\n",
              "</div>"
            ],
            "text/plain": [
              "MovieID  1     2     3     4     5     6     7     8     9     10    ...  \\\n",
              "UserID                                                               ...   \n",
              "1         5.0   NaN   NaN   NaN   NaN   NaN   NaN   NaN   NaN   NaN  ...   \n",
              "2         NaN   NaN   NaN   NaN   NaN   NaN   NaN   NaN   NaN   NaN  ...   \n",
              "3         NaN   NaN   NaN   NaN   NaN   NaN   NaN   NaN   NaN   NaN  ...   \n",
              "4         NaN   NaN   NaN   NaN   NaN   NaN   NaN   NaN   NaN   NaN  ...   \n",
              "5         NaN   NaN   NaN   NaN   NaN   2.0   NaN   NaN   NaN   NaN  ...   \n",
              "...       ...   ...   ...   ...   ...   ...   ...   ...   ...   ...  ...   \n",
              "6036      NaN   NaN   NaN   2.0   NaN   3.0   NaN   NaN   NaN   NaN  ...   \n",
              "6037      NaN   NaN   NaN   NaN   NaN   NaN   NaN   NaN   NaN   NaN  ...   \n",
              "6038      NaN   NaN   NaN   NaN   NaN   NaN   NaN   NaN   NaN   NaN  ...   \n",
              "6039      NaN   NaN   NaN   NaN   NaN   NaN   NaN   NaN   NaN   NaN  ...   \n",
              "6040      3.0   NaN   NaN   NaN   NaN   NaN   NaN   NaN   NaN   NaN  ...   \n",
              "\n",
              "MovieID  3943  3944  3945  3946  3947  3948  3949  3950  3951  3952  \n",
              "UserID                                                               \n",
              "1         NaN   NaN   NaN   NaN   NaN   NaN   NaN   NaN   NaN   NaN  \n",
              "2         NaN   NaN   NaN   NaN   NaN   NaN   NaN   NaN   NaN   NaN  \n",
              "3         NaN   NaN   NaN   NaN   NaN   NaN   NaN   NaN   NaN   NaN  \n",
              "4         NaN   NaN   NaN   NaN   NaN   NaN   NaN   NaN   NaN   NaN  \n",
              "5         NaN   NaN   NaN   NaN   NaN   NaN   NaN   NaN   NaN   NaN  \n",
              "...       ...   ...   ...   ...   ...   ...   ...   ...   ...   ...  \n",
              "6036      NaN   NaN   NaN   NaN   NaN   NaN   NaN   NaN   NaN   NaN  \n",
              "6037      NaN   NaN   NaN   NaN   NaN   NaN   NaN   NaN   NaN   NaN  \n",
              "6038      NaN   NaN   NaN   NaN   NaN   NaN   NaN   NaN   NaN   NaN  \n",
              "6039      NaN   NaN   NaN   NaN   NaN   NaN   NaN   NaN   NaN   NaN  \n",
              "6040      NaN   NaN   NaN   NaN   NaN   NaN   NaN   NaN   NaN   NaN  \n",
              "\n",
              "[6040 rows x 3706 columns]"
            ]
          },
          "execution_count": 49,
          "metadata": {},
          "output_type": "execute_result"
        }
      ],
      "source": [
        "M"
      ]
    },
    {
      "cell_type": "code",
      "execution_count": 50,
      "metadata": {
        "id": "f1MMdGq_m-PL"
      },
      "outputs": [],
      "source": [
        "def data_processing(matrix, y_train, flag):\n",
        "    R_item = y_train.groupby(['MovieID'], as_index=False)['Rating'].mean().rename(\n",
        "                    columns={'Rating':'MovieRating'})\n",
        "    R_user = y_train.groupby(['UserID'], as_index=False)['Rating'].mean().rename(\n",
        "                        columns={'Rating':'UserRating'})\n",
        "\n",
        "    R_user = np.array(R_user['UserRating'])\n",
        "    R_item = np.array(R_item['MovieRating'])\n",
        "\n",
        "    if flag == 0: # preprocess\n",
        "        print('preprocessing')\n",
        "        matrix = matrix - np.repeat(R_item[None],len(R_user),axis=0)\n",
        "        matrix = matrix - np.repeat(R_user[None].T,len(R_item),axis=1)\n",
        "    elif flag == 1: # unprocess\n",
        "        print('unprocessing')\n",
        "        matrix = matrix + np.repeat(R_user[None].T,len(R_item),axis=1)\n",
        "        matrix = matrix + np.repeat(R_item[None],len(R_user),axis=0)\n",
        "    \n",
        "    return matrix"
      ]
    },
    {
      "cell_type": "code",
      "execution_count": 51,
      "metadata": {
        "id": "XGlOGTqLm-PL"
      },
      "outputs": [],
      "source": [
        "def create_UV(M, d):\n",
        "    initialization = np.sqrt(np.abs((np.nanmean(M)/d)))\n",
        "    U = np.full((np.size(M, 0), d), fill_value=initialization, dtype=float)\n",
        "    V = np.full((d, np.size(M, 1)), fill_value=initialization, dtype=float)\n",
        "    return U, V"
      ]
    },
    {
      "cell_type": "code",
      "execution_count": 52,
      "metadata": {
        "id": "UrkSGhrUm-PL"
      },
      "outputs": [],
      "source": [
        "def find_x(M, U, V, r, s):\n",
        "    inner_dot = np.dot(np.delete(U, s, axis=1)[r], np.delete(V, s, axis=0))\n",
        "    subtracted = M[r] - inner_dot\n",
        "    top = np.nansum(V[s] * subtracted)\n",
        "    non_nan = ~np.isnan(M[r])\n",
        "    return top/np.nansum((non_nan * V[s])**2)"
      ]
    },
    {
      "cell_type": "code",
      "execution_count": 53,
      "metadata": {
        "id": "vUBuvQfEm-PL"
      },
      "outputs": [],
      "source": [
        "def find_y(M, U, V, r, s):\n",
        "    dot_prod = np.dot(np.delete(U, r, axis=1), np.delete(V, r, axis=0)[:,s])\n",
        "    subtracted = M[:,s] - dot_prod\n",
        "    top = np.nansum(U[:,r] * subtracted)\n",
        "    non_nan = ~np.isnan(M[:,s])\n",
        "    return top/np.nansum((non_nan * U[:,r])**2)"
      ]
    },
    {
      "cell_type": "code",
      "execution_count": 54,
      "metadata": {
        "id": "aj18MKHqm-PL"
      },
      "outputs": [],
      "source": [
        "def normalization(matrix):\n",
        "    normalized = matrix.copy()\n",
        "    norm_val = (np.nanmean(normalized, axis=1, \n",
        "                keepdims=True)/2) + (np.nanmean(normalized, axis=0, keepdims=True)/2)\n",
        "    normalized -= norm_val\n",
        "    normalized = normalized.to_numpy(na_value=np.nan)\n",
        "    return normalized, norm_val"
      ]
    },
    {
      "cell_type": "code",
      "execution_count": 55,
      "metadata": {
        "id": "eON1xXf6m-PM"
      },
      "outputs": [],
      "source": [
        "def denormalization(UV, norm_val):\n",
        "    UV += norm_val\n",
        "    UV[UV<1] = 1\n",
        "    UV[UV>5] = 5\n",
        "    return UV"
      ]
    },
    {
      "cell_type": "code",
      "execution_count": 56,
      "metadata": {
        "id": "YA3HbOvgm-PM"
      },
      "outputs": [],
      "source": [
        "def RMSE(target,predictions):\n",
        "    return np.sqrt(np.nansum(np.nansum((target - predictions) ** 2, axis=1)) / (target.size - np.isnan(target).sum()))\n",
        "\n",
        "\n",
        "def MAE(target, predictions):\n",
        "    return np.nansum(np.nansum(np.abs((target - predictions)), axis=1)) / (target.size - np.isnan(target).sum())"
      ]
    },
    {
      "cell_type": "code",
      "execution_count": 57,
      "metadata": {
        "id": "0YN1d2iOm-PM"
      },
      "outputs": [],
      "source": [
        "def UV_decomposition(M, U, V):\n",
        "    for r in range(np.size(U, 0)): # iterating rows\n",
        "        for s in range(np.size(U, 1)): # iterating cols\n",
        "            U[r][s] = find_x(M, U, V, r, s)\n",
        "    for r in range(np.size(V, 0)): # iterating rows\n",
        "        for s in range(np.size(V, 1)): # iterating cols\n",
        "            V[r][s] = find_y(M, U, V, r, s)\n",
        "    UV = np.dot(U, V)\n",
        "    return np.array(np.dot(U, V), dtype=float),  RMSE(M, UV), MAE(M, UV) # UV matrix"
      ]
    },
    {
      "cell_type": "code",
      "execution_count": 58,
      "metadata": {
        "id": "iF7SZfp7m-PM"
      },
      "outputs": [],
      "source": [
        "def evalutation(UV, y_test, index, columns, R_global):\n",
        "    predictions_df = pd.DataFrame(UV,index=index,columns=columns)\n",
        "    predictions_df = predictions_df.reset_index()\n",
        "    predictions_df = pd.melt(predictions_df,id_vars=['UserID'],\n",
        "                            value_vars=predictions_df.columns.drop('UserID'),\n",
        "                            value_name='Predicted')\n",
        "    merged = pd.merge(y_test, predictions_df, on=['UserID', 'MovieID'],how='left'\n",
        "                    ).rename(columns={'Rating_x': 'Rating', 'Rating_y': 'Predicted'})\n",
        "    merged['Predicted'] = merged.Predicted.fillna(R_global)\n",
        "    test_RMSE = mean_squared_error(merged['Rating'], merged['Predicted'], squared=False)\n",
        "    test_MAE = mean_absolute_error(merged['Rating'], merged['Predicted'])\n",
        "    return test_RMSE, test_MAE"
      ]
    },
    {
      "cell_type": "code",
      "execution_count": 59,
      "metadata": {
        "id": "-uJqNLJvm-PM",
        "outputId": "fe427180-8f08-46e0-94a5-8333baccdd58"
      },
      "outputs": [
        {
          "name": "stdout",
          "output_type": "stream",
          "text": [
            "Degree:  8\n",
            "Degree:  16\n",
            "Degree:  24\n",
            "Degree:  32\n",
            "Degree:  44\n"
          ]
        }
      ],
      "source": [
        "skf = KFold(n_splits=5, shuffle=True, random_state=42)\n",
        "df_ratings = pd.read_csv(f'{DATASET_LOC}/ratings.dat', names=rating_cols, header=None, sep='::', engine='python')\n",
        "y = df_ratings.copy()\n",
        "degrees = [8, 16, 24, 32, 44]\n",
        "rmses_final_train = []\n",
        "maes_final_train = []\n",
        "rmses_final_test = []\n",
        "maes_final_test = []\n",
        "iterations = 20\n",
        "for d in degrees:\n",
        "  print('Degree: ', d)\n",
        "  rmses_train = []\n",
        "  maes_train = []\n",
        "  rmses_test = []\n",
        "  maes_test = []\n",
        "  for train_index, test_index in skf.split(y):  \n",
        "    y_train = y.iloc[train_index]\n",
        "    y_test = y.iloc[test_index]\n",
        "    rmses_ave_train = []\n",
        "    maes_ave_train = []\n",
        "    rmses_ave_test = []\n",
        "    maes_ave_test = []\n",
        "    R_global = y_train['Rating'].mean()\n",
        "    M = y_train.pivot(\n",
        "      index='UserID',\n",
        "      columns='MovieID',\n",
        "      values='Rating'\n",
        "    )\n",
        "    index = M.index\n",
        "    columns = M.columns\n",
        "    M, norm_val = normalization(M)\n",
        "    U, V = create_UV(M, d)\n",
        "    U = np.array(U, dtype=float)\n",
        "    V = np.array(V, dtype=float)\n",
        "    for x in range(iterations):\n",
        "      # print('Iteration: ', x)\n",
        "      UV, rmse_train, mae_train = UV_decomposition(M, U, V)\n",
        "      # UV = data_processing(UV, y_train, 1)\n",
        "      UV = denormalization(UV, norm_val)\n",
        "      rmse, mae = evalutation(UV, y_test, index, columns, R_global)\n",
        "      # test\n",
        "      rmses_ave_test.append(rmse)\n",
        "      maes_ave_test.append(mae)\n",
        "      # train\n",
        "      rmses_ave_train.append(rmse_train)\n",
        "      maes_ave_train.append(mae_train)\n",
        "    # test\n",
        "    rmses_test.append(np.array(rmses_ave_test))\n",
        "    maes_test.append(np.array(maes_ave_test))\n",
        "    # train\n",
        "    rmses_train.append(np.array(rmses_ave_train))\n",
        "    maes_train.append(np.array(maes_ave_train))\n",
        "  # test\n",
        "  rmses_final_test.append(np.array(rmses_test))\n",
        "  maes_final_test.append(np.array(maes_test))\n",
        "  # train\n",
        "  rmses_final_train.append(np.array(rmses_train))\n",
        "  maes_final_train.append(np.array(maes_train))\n",
        "  \n",
        "# print(rmses_final_test)\n",
        "# print(maes_final_test)"
      ]
    },
    {
      "cell_type": "code",
      "execution_count": 62,
      "metadata": {
        "id": "iP4il6bim-PN"
      },
      "outputs": [],
      "source": [
        "# Exporting the data generated for experimental results\n",
        "rmse_export_test = (np.mean(rmses_final_test, axis=1))\n",
        "rmse_export_train = (np.mean(rmses_final_train, axis=1))\n",
        "mae_export_test = (np.mean(maes_final_test, axis=1))\n",
        "mae_export_train = (np.mean(maes_final_train, axis=1))\n",
        "save('out/rmses_test.npy', rmse_export_test)\n",
        "save('out/rmses_train.npy', rmse_export_train)\n",
        "save('out/maes_test.npy', mae_export_test)\n",
        "save('out/maes_train.npy', mae_export_train)"
      ]
    },
    {
      "cell_type": "code",
      "execution_count": 72,
      "metadata": {
        "id": "V3ok2XPfm-PN"
      },
      "outputs": [],
      "source": [
        "rmses_resutls_test = load('out/rmses_test.npy')\n",
        "maes_resutls_test = load('out/maes_test.npy')\n",
        "\n",
        "test_concat = [rmses_resutls_test, maes_resutls_test]\n",
        "\n",
        "# for train \n",
        "rmses_resutls_train = load('out/rmses_train.npy')\n",
        "maes_resutls_train= load('out/maes_train.npy')\n",
        "\n",
        "train_concat = [rmses_resutls_train, maes_resutls_train]\n"
      ]
    },
    {
      "cell_type": "code",
      "execution_count": 73,
      "metadata": {
        "id": "C-g0IEIsm-PN",
        "outputId": "b3157d5c-b3a5-43ab-8c54-4e9683912265"
      },
      "outputs": [
        {
          "data": {
            "image/png": "[encoded data removed]",
            "text/plain": [
              "<Figure size 1152x1080 with 2 Axes>"
            ]
          },
          "metadata": {
            "needs_background": "light"
          },
          "output_type": "display_data"
        }
      ],
      "source": [
        "# for test scores\n",
        "degree_labels = np.array([2, 4, 6, 8, 16, 24, 32, 44])\n",
        "metric = ['RMSE Score', 'MAE Score']\n",
        "fig, ax = plt.subplots(2,1, figsize=(16, 15))\n",
        "for index, y in enumerate(test_concat):\n",
        "    x = np.array(range(20)) + 1\n",
        "    fig.suptitle('Accuracy Metric Scores for Test set', fontsize=14, fontweight='bold')\n",
        "    ax[index].set_xticks(x)\n",
        "    line_of_objects = ax[index].plot(x, y.T, linewidth=3.0)\n",
        "    ax[index].legend(iter(line_of_objects), degree_labels, title=\"Dimension\", fontsize='medium', fancybox=True)\n",
        "    ax[index].set_ylabel(metric[index], fontsize=14)\n",
        "    ax[index].set_xlabel('Iteration', fontsize=14)\n",
        "\n",
        "    fig.tight_layout(pad=3)\n",
        "\n",
        "plt.show()\n"
      ]
    },
    {
      "cell_type": "code",
      "execution_count": 74,
      "metadata": {
        "id": "ZZtIFr9Gm-PN",
        "outputId": "54510a9b-951d-464c-c794-e3c3bba1be27"
      },
      "outputs": [
        {
          "data": {
            "image/png": "[encoded data removed]",
            "text/plain": [
              "<Figure size 1152x1080 with 2 Axes>"
            ]
          },
          "metadata": {
            "needs_background": "light"
          },
          "output_type": "display_data"
        }
      ],
      "source": [
        "# for test scores\n",
        "degree_labels = np.array([2, 4, 6, 8, 16, 24, 32, 44])\n",
        "metric = ['RMSE Score', 'MAE Score']\n",
        "fig, ax = plt.subplots(2,1, figsize=(16, 15))\n",
        "for index, y in enumerate(train_concat):\n",
        "    x = np.array(range(20)) + 1\n",
        "    fig.suptitle('Accuracy Metric Scores for Train set', fontsize=14, fontweight='bold')\n",
        "    ax[index].set_xticks(x)\n",
        "    line_of_objects = ax[index].plot(x, y.T, linewidth=3.0)\n",
        "    ax[index].legend(iter(line_of_objects), degree_labels, title=\"Dimension\", fontsize='medium', fancybox=True)\n",
        "    ax[index].set_ylabel(metric[index], fontsize=14)\n",
        "    ax[index].set_xlabel('Iteration', fontsize=14)\n",
        "\n",
        "    fig.tight_layout(pad=3)\n",
        "\n",
        "plt.show()"
      ]
    }
  ],
  "metadata": {
    "colab": {
      "collapsed_sections": [],
      "name": "AiDM_Assignment1.ipynb",
      "provenance": [],
      "toc_visible": true
    },
    "interpreter": {
      "hash": "38cca0c38332a56087b24af0bc80247f4fced29cb4f7f437d91dc159adec9c4e"
    },
    "kernelspec": {
      "display_name": "Python 3.8.8 64-bit (conda)",
      "name": "python3"
    },
    "language_info": {
      "codemirror_mode": {
        "name": "ipython",
        "version": 3
      },
      "file_extension": ".py",
      "mimetype": "text/x-python",
      "name": "python",
      "nbconvert_exporter": "python",
      "pygments_lexer": "ipython3",
      "version": "3.8.13"
    }
  },
  "nbformat": 4,
  "nbformat_minor": 0
}
